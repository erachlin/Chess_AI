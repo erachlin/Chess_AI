{
 "cells": [
  {
   "cell_type": "code",
   "execution_count": 1,
   "metadata": {},
   "outputs": [],
   "source": [
    "import pickle\n",
    "from game import *\n",
    "from ai import *\n",
    "state, possible_moves = setup_game()"
   ]
  },
  {
   "cell_type": "code",
   "execution_count": 2,
   "metadata": {},
   "outputs": [
    {
     "name": "stdout",
     "output_type": "stream",
     "text": [
      "8 [bR][bN][bB][bQ][bK][bB][bN][bR] \n",
      "7 [bP][bP][bP][bP][bP][bP][bP][bP] \n",
      "6 [  ][  ][  ][  ][  ][  ][  ][  ] \n",
      "5 [  ][  ][  ][  ][  ][  ][  ][  ] \n",
      "4 [  ][  ][  ][  ][  ][  ][  ][  ] \n",
      "3 [  ][  ][  ][  ][  ][  ][  ][  ] \n",
      "2 [wP][wP][wP][wP][wP][wP][wP][wP] \n",
      "1 [wR][wN][wB][wQ][wK][wB][wN][wR]\n",
      "   a   b   c   d   e   f   g   h \n",
      "a4a5\n",
      "a4Nc6\n",
      "a4e5\n",
      "a4\n",
      "a3a5\n",
      "a3Nc6\n",
      "Nc3a5\n",
      "Nc3Nc6\n",
      "Nc3e5\n",
      "Nc3\n",
      "Na3a5\n",
      "Na3Nc6\n",
      "b4a6\n",
      "b4b5\n",
      "b3a5\n",
      "c4a5\n",
      "c4Nc6\n",
      "c3a5\n",
      "c3b5\n",
      "c3Nc6\n",
      "d4a5\n",
      "d4Nc6\n",
      "d4e6\n",
      "d4\n",
      "d3a5\n",
      "e4a5\n",
      "e4Nc6\n",
      "e3a5\n",
      "e3Nc6\n",
      "e3d5\n",
      "f4a5\n",
      "f3a5\n",
      "Nh3a5\n",
      "Nf3a5\n",
      "g4a5\n",
      "g3a5\n",
      "h4a5\n",
      "h3a5\n",
      "\n",
      "{'a4a5': {'a4a5Ra2': 0, 'a4a5Ra3': 6, 'a4a5Nc3': 6, 'a4a5Na3': 1, 'a4a5b3': 1, 'a4a5c4': 2, 'a4a5c3': 2, 'a4a5d4': 6, 'a4a5d3': 5, 'a4a5e4': 7, 'a4a5e3': 7, 'a4a5f4': 0, 'a4a5f3': 0, 'a4a5Nh3': 2, 'a4a5Nf3': 6, 'a4a5g4': 1, 'a4a5g3': 1, 'a4a5h4': 2, 'a4a5h3': 1}, 'a4Nc6': {'a4Nc6Ra2': -4, 'a4Nc6Ra3': 2, 'a4Nc6Nc3': 2, 'a4Nc6Na3': -3, 'a4Nc6b3': -3, 'a4Nc6c4': -2, 'a4Nc6c3': -2, 'a4Nc6d3': 1, 'a4Nc6e4': 3, 'a4Nc6e3': 3, 'a4Nc6f4': -4, 'a4Nc6f3': -4, 'a4Nc6Nh3': -2, 'a4Nc6Nf3': 2, 'a4Nc6g4': -3, 'a4Nc6g3': -3, 'a4Nc6h4': -2, 'a4Nc6h3': -3}, 'a4e5': {'a4e5Ra2': -5, 'a4e5Ra3': 1, 'a4e5a5': -4, 'a4e5Nc3': 1, 'a4e5Na3': -4, 'a4e5b3': -4, 'a4e5c4': -3, 'a4e5c3': -3, 'a4e5d3': 0, 'a4e5e4': 2, 'a4e5e3': 2, 'a4e5f3': -5, 'a4e5Nh3': -3, 'a4e5Nf3': 1, 'a4e5g4': -4, 'a4e5g3': -4, 'a4e5h3': -4}, 'a4': {'a4a5': 7, 'a4a6': 7, 'a4b6': 7, 'a4Nc6': 3, 'a4Na6': 6, 'a4c5': 6, 'a4c6': 6, 'a4d5': 3, 'a4d6': 3, 'a4e5': 2, 'a4e6': 2, 'a4f5': 2, 'a4f6': 2, 'a4g5': 7, 'a4g6': 7, 'a4Nh6': 6, 'a4Nf6': 2, 'a4h5': 6, 'a4h6': 7}, 'a3a5': {'a3a5Ra2': -1, 'a3a5a4': 0, 'a3a5Nc3': 5, 'a3a5b3': 0, 'a3a5c4': 1, 'a3a5c3': 1, 'a3a5d4': 5, 'a3a5d3': 4, 'a3a5e4': 6, 'a3a5e3': 6, 'a3a5f4': -1, 'a3a5f3': -1, 'a3a5Nh3': 1, 'a3a5Nf3': 5, 'a3a5g4': 0, 'a3a5g3': 0, 'a3a5h4': 1, 'a3a5h3': 0}, 'a3Nc6': {'a3Nc6Ra2': -5, 'a3Nc6a4': -4, 'a3Nc6Nc3': 1, 'a3Nc6b3': -4, 'a3Nc6c4': -3, 'a3Nc6c3': -3, 'a3Nc6d3': 0, 'a3Nc6e4': 2, 'a3Nc6e3': 2, 'a3Nc6f4': -5, 'a3Nc6f3': -5, 'a3Nc6Nh3': -3, 'a3Nc6Nf3': 1, 'a3Nc6g4': -4, 'a3Nc6g3': -4, 'a3Nc6h4': -3, 'a3Nc6h3': -4}, 'Nc3a5': {'Nc3a5Rb1': 4, 'Nc3a5a4': 6, 'Nc3a5a3': 5, 'Nc3a5b3': 5, 'Nc3a5Ne4': 4, 'Nc3a5Nd5': 4, 'Nc3a5Nb5': 2, 'Nc3a5Na4': 0, 'Nc3a5Nb1': -2, 'Nc3a5d4': 10, 'Nc3a5d3': 9, 'Nc3a5e4': 11, 'Nc3a5e3': 11, 'Nc3a5f4': 4, 'Nc3a5f3': 4, 'Nc3a5Nh3': 6, 'Nc3a5Nf3': 10, 'Nc3a5g4': 5, 'Nc3a5g3': 5, 'Nc3a5h4': 6, 'Nc3a5h3': 5}, 'Nc3Nc6': {'Nc3Nc6Rb1': 0, 'Nc3Nc6a4': 2, 'Nc3Nc6a3': 1, 'Nc3Nc6b3': 1, 'Nc3Nc6Ne4': 0, 'Nc3Nc6Nd5': 0, 'Nc3Nc6Nb5': -2, 'Nc3Nc6Na4': -4, 'Nc3Nc6Nb1': -6, 'Nc3Nc6d3': 5, 'Nc3Nc6e4': 7, 'Nc3Nc6e3': 7, 'Nc3Nc6f4': 0, 'Nc3Nc6f3': 0, 'Nc3Nc6Nh3': 2, 'Nc3Nc6Nf3': 6, 'Nc3Nc6g4': 1, 'Nc3Nc6g3': 1, 'Nc3Nc6h4': 2, 'Nc3Nc6h3': 1}, 'Nc3e5': {'Nc3e5Rb1': -1, 'Nc3e5a4': 1, 'Nc3e5b3': 0, 'Nc3e5Ne4': -1, 'Nc3e5Nd5': -1, 'Nc3e5Nb5': -3, 'Nc3e5Na4': -5, 'Nc3e5Nb1': -7, 'Nc3e5d3': 4, 'Nc3e5e4': 6, 'Nc3e5e3': 6, 'Nc3e5f3': -1, 'Nc3e5Nh3': 1, 'Nc3e5Nf3': 5, 'Nc3e5g4': 0, 'Nc3e5g3': 0, 'Nc3e5h3': 0}, 'Nc3': {'Nc3a5': 11, 'Nc3a6': 11, 'Nc3b6': 11, 'Nc3Nc6': 7, 'Nc3Na6': 10, 'Nc3c5': 9, 'Nc3c6': 10, 'Nc3d6': 7, 'Nc3e5': 6, 'Nc3e6': 6, 'Nc3f5': 6, 'Nc3f6': 6, 'Nc3g5': 7, 'Nc3g6': 7, 'Nc3Nh6': 6, 'Nc3Nf6': 6, 'Nc3h5': 6, 'Nc3h6': 7}, 'Na3a5': {'Na3a5Rb1': 0, 'Na3a5Nb1': -2, 'Na3a5Nc4': 4, 'Na3a5Nb5': 2, 'Na3a5b3': 1, 'Na3a5c4': 2, 'Na3a5c3': 2, 'Na3a5d4': 6, 'Na3a5d3': 5, 'Na3a5e4': 7, 'Na3a5e3': 7, 'Na3a5f4': 0, 'Na3a5f3': 0, 'Na3a5Nh3': 2, 'Na3a5Nf3': 6, 'Na3a5g4': 1, 'Na3a5g3': 1, 'Na3a5h4': 2, 'Na3a5h3': 1}, 'Na3Nc6': {'Na3Nc6Rb1': -4, 'Na3Nc6Nb1': -6, 'Na3Nc6Nc4': 0, 'Na3Nc6Nb5': -2, 'Na3Nc6b3': -3, 'Na3Nc6c4': -2, 'Na3Nc6c3': -2, 'Na3Nc6d3': 1, 'Na3Nc6e4': 3, 'Na3Nc6e3': 3, 'Na3Nc6f4': -4, 'Na3Nc6f3': -4, 'Na3Nc6Nh3': -2, 'Na3Nc6Nf3': 2, 'Na3Nc6g4': -3, 'Na3Nc6g3': -3, 'Na3Nc6h4': -2, 'Na3Nc6h3': -3}, 'b4a6': {'b4a6a4': 2, 'b4a6a3': 1, 'b4a6Nc3': 6, 'b4a6Na3': 2, 'b4a6Bb2': 6, 'b4a6Ba3': 1, 'b4a6c4': 2, 'b4a6c3': 2, 'b4a6d4': 6, 'b4a6d3': 5, 'b4a6e4': 7, 'b4a6e3': 7, 'b4a6f4': 0, 'b4a6f3': 0, 'b4a6Nh3': 2, 'b4a6Nf3': 6, 'b4a6g4': 1, 'b4a6g3': 1, 'b4a6h4': 2, 'b4a6h3': 1}, 'b4b5': {'b4b5a3': 1, 'b4b5Nc3': 6, 'b4b5Na3': 2, 'b4b5Bb2': 6, 'b4b5Ba3': 1, 'b4b5c3': 2, 'b4b5d4': 6, 'b4b5d3': 5, 'b4b5e4': 6, 'b4b5e3': 6, 'b4b5f4': 0, 'b4b5f3': 0, 'b4b5Nh3': 2, 'b4b5Nf3': 6, 'b4b5g4': 1, 'b4b5g3': 1, 'b4b5h4': 2, 'b4b5h3': 1}, 'b3a5': {'b3a5a4': 1, 'b3a5a3': 0, 'b3a5Nc3': 5, 'b3a5Na3': 1, 'b3a5Bb2': 5, 'b3a5Ba3': 3, 'b3a5c4': 0, 'b3a5c3': 0, 'b3a5d4': 5, 'b3a5d3': 4, 'b3a5e4': 6, 'b3a5e3': 6, 'b3a5f4': -1, 'b3a5f3': -1, 'b3a5Nh3': 1, 'b3a5Nf3': 5, 'b3a5g4': 0, 'b3a5g3': 0, 'b3a5h4': 1, 'b3a5h3': 0}, 'c4a5': {'c4a5a4': 2, 'c4a5a3': 1, 'c4a5Nc3': 6, 'c4a5Na3': 2, 'c4a5b3': 0, 'c4a5c5': 0, 'c4a5Qc2': 7, 'c4a5Qb3': 10, 'c4a5Qa4': 4, 'c4a5d4': 6, 'c4a5d3': 5, 'c4a5e4': 5, 'c4a5e3': 5, 'c4a5f4': 0, 'c4a5f3': 0, 'c4a5Nh3': 2, 'c4a5Nf3': 6, 'c4a5g4': 1, 'c4a5g3': 1, 'c4a5h4': 2, 'c4a5h3': 1}, 'c4Nc6': {'c4Nc6a4': -2, 'c4Nc6a3': -3, 'c4Nc6Nc3': 2, 'c4Nc6Na3': -2, 'c4Nc6b3': -4, 'c4Nc6c5': -4, 'c4Nc6Qc2': 3, 'c4Nc6Qb3': 6, 'c4Nc6Qa4': 1, 'c4Nc6d3': 1, 'c4Nc6e4': 1, 'c4Nc6e3': 1, 'c4Nc6f4': -4, 'c4Nc6f3': -4, 'c4Nc6Nh3': -2, 'c4Nc6Nf3': 2, 'c4Nc6g4': -3, 'c4Nc6g3': -3, 'c4Nc6h4': -2, 'c4Nc6h3': -3}, 'c3a5': {'c3a5a4': 2, 'c3a5a3': 1, 'c3a5Na3': 2, 'c3a5b3': 0, 'c3a5c4': 0, 'c3a5Qc2': 6, 'c3a5Qb3': 8, 'c3a5Qa4': 9, 'c3a5d4': 6, 'c3a5d3': 5, 'c3a5e4': 7, 'c3a5e3': 7, 'c3a5f4': 0, 'c3a5f3': 0, 'c3a5Nh3': 2, 'c3a5Nf3': 6, 'c3a5g4': 1, 'c3a5g3': 1, 'c3a5h4': 2, 'c3a5h3': 1}, 'c3b5': {'c3b5a3': 2, 'c3b5Na3': 3, 'c3b5b4': 2, 'c3b5b3': 1, 'c3b5Qc2': 7, 'c3b5Qb3': 7, 'c3b5d4': 7, 'c3b5d3': 6, 'c3b5e4': 7, 'c3b5e3': 7, 'c3b5f4': 1, 'c3b5f3': 1, 'c3b5Nh3': 3, 'c3b5Nf3': 7, 'c3b5g4': 2, 'c3b5g3': 2, 'c3b5h4': 3, 'c3b5h3': 2}, 'c3Nc6': {'c3Nc6a4': -2, 'c3Nc6a3': -3, 'c3Nc6Na3': -2, 'c3Nc6b3': -4, 'c3Nc6c4': -4, 'c3Nc6Qc2': 2, 'c3Nc6Qb3': 4, 'c3Nc6Qa4': 6, 'c3Nc6d3': 1, 'c3Nc6e4': 3, 'c3Nc6e3': 3, 'c3Nc6f4': -4, 'c3Nc6f3': -4, 'c3Nc6Nh3': -2, 'c3Nc6Nf3': 2, 'c3Nc6g4': -3, 'c3Nc6g3': -3, 'c3Nc6h4': -2, 'c3Nc6h3': -3}, 'd4a5': {'d4a5a4': 6, 'd4a5a3': 5, 'd4a5Nd2': 2, 'd4a5Nc3': 10, 'd4a5Na3': 6, 'd4a5b3': 5, 'd4a5Bd2': 6, 'd4a5Be3': 6, 'd4a5Bf4': 9, 'd4a5Bg5': 7, 'd4a5c4': 6, 'd4a5c3': 6, 'd4a5Qd2': 7, 'd4a5Qd3': 16, 'd4a5d5': 5, 'd4a5Kd2': 2, 'd4a5e4': 11, 'd4a5e3': 8, 'd4a5f4': 2, 'd4a5f3': 4, 'd4a5Nh3': 6, 'd4a5Nf3': 10, 'd4a5g4': 5, 'd4a5g3': 5, 'd4a5h4': 6, 'd4a5h3': 5}, 'd4Nc6': {'d4Nc6a4': 2, 'd4Nc6a3': 1, 'd4Nc6Nd2': -2, 'd4Nc6Nc3': 6, 'd4Nc6Na3': 2, 'd4Nc6b3': 1, 'd4Nc6Bd2': 2, 'd4Nc6Be3': 2, 'd4Nc6Bf4': 5, 'd4Nc6Bg5': 3, 'd4Nc6c4': 2, 'd4Nc6c3': 2, 'd4Nc6Qd2': 3, 'd4Nc6Qd3': 12, 'd4Nc6d5': 1, 'd4Nc6Kd2': -2, 'd4Nc6e4': 7, 'd4Nc6e3': 4, 'd4Nc6f4': -2, 'd4Nc6f3': 0, 'd4Nc6Nh3': 2, 'd4Nc6Nf3': 6, 'd4Nc6g4': 1, 'd4Nc6g3': 1, 'd4Nc6h4': 2, 'd4Nc6h3': 1}, 'd4e6': {'d4e6a4': 1, 'd4e6a3': 0, 'd4e6Nd2': -3, 'd4e6Nc3': 5, 'd4e6Na3': 1, 'd4e6b3': 0, 'd4e6Bd2': 1, 'd4e6Be3': 1, 'd4e6Bf4': 4, 'd4e6c4': 1, 'd4e6c3': 1, 'd4e6Qd2': 2, 'd4e6Qd3': 11, 'd4e6Kd2': -3, 'd4e6e4': 6, 'd4e6e3': 3, 'd4e6f4': -3, 'd4e6f3': -1, 'd4e6Nh3': 1, 'd4e6Nf3': 5, 'd4e6g4': 0, 'd4e6g3': 0, 'd4e6h3': 0}, 'd4': {'d4a5': 16, 'd4a6': 17, 'd4b5': 16, 'd4b6': 17, 'd4Nc6': 12, 'd4Na6': 16, 'd4c6': 16, 'd4d5': 12, 'd4d6': 13, 'd4e6': 11, 'd4f5': 12, 'd4f6': 12, 'd4g6': 11, 'd4Nh6': 16, 'd4Nf6': 12, 'd4h5': 16, 'd4h6': 11}, 'd3a5': {'d3a5a4': 5, 'd3a5a3': 4, 'd3a5Nd2': 2, 'd3a5Nc3': 9, 'd3a5Na3': 5, 'd3a5b3': 4, 'd3a5Bd2': 6, 'd3a5Be3': 8, 'd3a5Bf4': 8, 'd3a5Bg5': 6, 'd3a5c4': 5, 'd3a5c3': 5, 'd3a5Qd2': 6, 'd3a5d4': 4, 'd3a5Kd2': 2, 'd3a5e4': 7, 'd3a5e3': 4, 'd3a5f4': 1, 'd3a5f3': 3, 'd3a5Nh3': 5, 'd3a5Nf3': 9, 'd3a5g4': 4, 'd3a5g3': 4, 'd3a5h4': 5, 'd3a5h3': 4}, 'e4a5': {'e4a5a4': 7, 'e4a5a3': 6, 'e4a5Nc3': 11, 'e4a5Na3': 7, 'e4a5b3': 6, 'e4a5c4': 5, 'e4a5c3': 7, 'e4a5Qe2': 7, 'e4a5Qf3': 15, 'e4a5Qg4': 13, 'e4a5Qh5': 15, 'e4a5d4': 11, 'e4a5d3': 7, 'e4a5Ke2': 2, 'e4a5e5': 5, 'e4a5Be2': 5, 'e4a5Bd3': 6, 'e4a5Bc4': 9, 'e4a5Bb5': 7, 'e4a5f4': 5, 'e4a5f3': 3, 'e4a5Nh3': 7, 'e4a5Nf3': 9, 'e4a5Ne2': 2, 'e4a5g4': 5, 'e4a5g3': 6, 'e4a5h4': 7, 'e4a5h3': 6}, 'e4Nc6': {'e4Nc6a4': 3, 'e4Nc6a3': 2, 'e4Nc6Nc3': 7, 'e4Nc6Na3': 3, 'e4Nc6b3': 2, 'e4Nc6c4': 1, 'e4Nc6c3': 3, 'e4Nc6Qe2': 3, 'e4Nc6Qf3': 11, 'e4Nc6Qg4': 9, 'e4Nc6Qh5': 11, 'e4Nc6d3': 3, 'e4Nc6Ke2': -2, 'e4Nc6Be2': 1, 'e4Nc6Bd3': 2, 'e4Nc6Bc4': 5, 'e4Nc6Bb5': 2, 'e4Nc6f4': 1, 'e4Nc6f3': -1, 'e4Nc6Nh3': 3, 'e4Nc6Nf3': 5, 'e4Nc6Ne2': -2, 'e4Nc6g4': 1, 'e4Nc6g3': 2, 'e4Nc6h4': 3, 'e4Nc6h3': 2}, 'e3a5': {'e3a5a4': 7, 'e3a5a3': 6, 'e3a5Nc3': 11, 'e3a5Na3': 7, 'e3a5b3': 6, 'e3a5c4': 5, 'e3a5c3': 7, 'e3a5Qe2': 6, 'e3a5Qf3': 14, 'e3a5Qg4': 17, 'e3a5Qh5': 15, 'e3a5d4': 8, 'e3a5d3': 4, 'e3a5Ke2': 2, 'e3a5e4': 5, 'e3a5Be2': 5, 'e3a5Bd3': 9, 'e3a5Bc4': 9, 'e3a5Bb5': 7, 'e3a5f4': 5, 'e3a5f3': 3, 'e3a5Nh3': 7, 'e3a5Nf3': 9, 'e3a5Ne2': 2, 'e3a5g4': 5, 'e3a5g3': 6, 'e3a5h4': 7, 'e3a5h3': 6}, 'e3Nc6': {'e3Nc6a4': 3, 'e3Nc6a3': 2, 'e3Nc6Nc3': 7, 'e3Nc6Na3': 3, 'e3Nc6b3': 2, 'e3Nc6c4': 1, 'e3Nc6c3': 3, 'e3Nc6Qe2': 2, 'e3Nc6Qf3': 9, 'e3Nc6Qg4': 13, 'e3Nc6Qh5': 11, 'e3Nc6d3': 0, 'e3Nc6Ke2': -2, 'e3Nc6e4': 1, 'e3Nc6Be2': 1, 'e3Nc6Bd3': 5, 'e3Nc6Bc4': 5, 'e3Nc6Bb5': 2, 'e3Nc6f4': 1, 'e3Nc6f3': -1, 'e3Nc6Nh3': 3, 'e3Nc6Nf3': 5, 'e3Nc6Ne2': -2, 'e3Nc6g4': 1, 'e3Nc6g3': 2, 'e3Nc6h4': 3, 'e3Nc6h3': 2}, 'e3d5': {'e3d5a4': 3, 'e3d5a3': 2, 'e3d5Nc3': 7, 'e3d5Na3': 3, 'e3d5b4': 2, 'e3d5b3': 2, 'e3d5c3': 3, 'e3d5Qe2': 2, 'e3d5Qf3': 8, 'e3d5Qh5': 8, 'e3d5d4': 4, 'e3d5d3': 0, 'e3d5Ke2': -2, 'e3d5Be2': 1, 'e3d5Bd3': 5, 'e3d5Bb5': 4, 'e3d5f4': 1, 'e3d5f3': -1, 'e3d5Nh3': 3, 'e3d5Nf3': 5, 'e3d5Ne2': -2, 'e3d5g3': 2, 'e3d5h4': 3, 'e3d5h3': 2}, 'f4a5': {'f4a5a4': 0, 'f4a5a3': -1, 'f4a5Nc3': 4, 'f4a5Na3': 0, 'f4a5b3': -1, 'f4a5c4': 0, 'f4a5c3': 0, 'f4a5d4': 2, 'f4a5d3': 1, 'f4a5Kf2': 2, 'f4a5e4': 5, 'f4a5e3': 5, 'f4a5f5': -2, 'f4a5Nh3': 0, 'f4a5Nf3': 4, 'f4a5g4': -1, 'f4a5g3': -1, 'f4a5h4': 0, 'f4a5h3': -1}, 'f3a5': {'f3a5a4': 0, 'f3a5a3': -1, 'f3a5Nc3': 4, 'f3a5Na3': 0, 'f3a5b3': -1, 'f3a5c4': 0, 'f3a5c3': 0, 'f3a5d4': 4, 'f3a5d3': 3, 'f3a5Kf2': 2, 'f3a5e4': 3, 'f3a5e3': 3, 'f3a5f4': -2, 'f3a5Nh3': 0, 'f3a5g4': -1, 'f3a5g3': -1, 'f3a5h4': 0, 'f3a5h3': -1}, 'Nh3a5': {'Nh3a5a4': 2, 'Nh3a5a3': 1, 'Nh3a5Nc3': 6, 'Nh3a5Na3': 2, 'Nh3a5b3': 1, 'Nh3a5c4': 2, 'Nh3a5c3': 2, 'Nh3a5d4': 6, 'Nh3a5d3': 5, 'Nh3a5e4': 7, 'Nh3a5e3': 7, 'Nh3a5f4': 0, 'Nh3a5f3': 0, 'Nh3a5g4': 1, 'Nh3a5g3': 1, 'Nh3a5Rg1': 0, 'Nh3a5Ng5': 2, 'Nh3a5Nf4': 4, 'Nh3a5Ng1': -2}, 'Nf3a5': {'Nf3a5a4': 6, 'Nf3a5a3': 5, 'Nf3a5Nc3': 10, 'Nf3a5Na3': 6, 'Nf3a5b3': 5, 'Nf3a5c4': 6, 'Nf3a5c3': 6, 'Nf3a5d4': 10, 'Nf3a5d3': 9, 'Nf3a5e4': 9, 'Nf3a5e3': 9, 'Nf3a5Ng1': -2, 'Nf3a5Nh4': 0, 'Nf3a5Ng5': 2, 'Nf3a5Ne5': 4, 'Nf3a5Nd4': 4, 'Nf3a5g4': 5, 'Nf3a5g3': 5, 'Nf3a5Rg1': 4, 'Nf3a5h4': 6, 'Nf3a5h3': 5}, 'g4a5': {'g4a5a4': 1, 'g4a5a3': 0, 'g4a5Nc3': 5, 'g4a5Na3': 1, 'g4a5b3': 0, 'g4a5c4': 1, 'g4a5c3': 1, 'g4a5d4': 5, 'g4a5d3': 4, 'g4a5e4': 5, 'g4a5e3': 5, 'g4a5Bg2': 4, 'g4a5Bh3': -1, 'g4a5f4': -1, 'g4a5f3': -1, 'g4a5Nh3': 1, 'g4a5Nf3': 5, 'g4a5g5': -1, 'g4a5h4': 1, 'g4a5h3': 0}, 'g3a5': {'g3a5a4': 1, 'g3a5a3': 0, 'g3a5Nc3': 5, 'g3a5Na3': 1, 'g3a5b3': 0, 'g3a5c4': 1, 'g3a5c3': 1, 'g3a5d4': 5, 'g3a5d3': 4, 'g3a5e4': 6, 'g3a5e3': 6, 'g3a5Bg2': 4, 'g3a5Bh3': 2, 'g3a5f4': -1, 'g3a5f3': -1, 'g3a5Nh3': 1, 'g3a5Nf3': 5, 'g3a5g4': -1, 'g3a5h4': 1, 'g3a5h3': 0}, 'h4a5': {'h4a5a4': 2, 'h4a5a3': 1, 'h4a5Nc3': 6, 'h4a5Na3': 2, 'h4a5b3': 1, 'h4a5c4': 2, 'h4a5c3': 2, 'h4a5d4': 6, 'h4a5d3': 5, 'h4a5e4': 7, 'h4a5e3': 7, 'h4a5f4': 0, 'h4a5f3': 0, 'h4a5Nh3': 1, 'h4a5Nf3': 6, 'h4a5g4': 1, 'h4a5g3': 1, 'h4a5Rh2': 0, 'h4a5Rh3': 6, 'h4a5h5': 1}, 'h3a5': {'h3a5a4': 1, 'h3a5a3': 0, 'h3a5Nc3': 5, 'h3a5Na3': 1, 'h3a5b3': 0, 'h3a5c4': 1, 'h3a5c3': 1, 'h3a5d4': 5, 'h3a5d3': 4, 'h3a5e4': 6, 'h3a5e3': 6, 'h3a5f4': -1, 'h3a5f3': -1, 'h3a5Nf3': 5, 'h3a5g4': 0, 'h3a5g3': 0, 'h3a5Rh2': -1, 'h3a5h4': 0}, '': {'a4': 2, 'a3': 2, 'Nc3': 6, 'Na3': 3, 'b4': 6, 'b3': 6, 'c4': 6, 'c3': 6, 'd4': 11, 'd3': 9, 'e4': 11, 'e3': 8, 'f4': 5, 'f3': 4, 'Nh3': 7, 'Nf3': 10, 'g4': 5, 'g3': 6, 'h4': 7, 'h3': 6}}\n",
      "white's move:  d4\n",
      "8 [bR][bN][bB][bQ][bK][bB][bN][bR] \n",
      "7 [bP][bP][bP][bP][bP][bP][bP][bP] \n",
      "6 [  ][  ][  ][  ][  ][  ][  ][  ] \n",
      "5 [  ][  ][  ][  ][  ][  ][  ][  ] \n",
      "4 [  ][  ][  ][wP][  ][  ][  ][  ] \n",
      "3 [  ][  ][  ][  ][  ][  ][  ][  ] \n",
      "2 [wP][wP][wP][  ][wP][wP][wP][wP] \n",
      "1 [wR][wN][wB][wQ][wK][wB][wN][wR]\n",
      "   a   b   c   d   e   f   g   h \n"
     ]
    },
    {
     "name": "stdout",
     "output_type": "stream",
     "text": [
      "d4a5a4\n",
      "d4a5Nc3\n",
      "d4a5Qd3\n",
      "d4a5\n",
      "d4a6a4\n",
      "d4a6Nc3\n",
      "d4a6Qd3\n",
      "d4b5a3\n",
      "d4b5Nc3\n",
      "d4b5Qd3\n",
      "d4b6a4\n",
      "d4b6Nc3\n",
      "d4b6Qd3\n",
      "d4Nc6a4\n",
      "d4Nc6Nc3\n",
      "d4Nc6Qd3\n",
      "d4Nc6\n",
      "d4Na6a4\n",
      "d4Na6Nc3\n",
      "d4Na6Qd3\n",
      "d4c6a4\n",
      "d4c6Nc3\n",
      "d4c6Qd3\n",
      "d4c6\n",
      "d4d5a4\n",
      "d4d5Nc3\n",
      "d4d5Qd3\n",
      "d4d5\n",
      "d4d6a4\n",
      "d4d6Nc3\n",
      "d4e6a4\n",
      "d4e6Nc3\n",
      "d4e6Qd3\n",
      "d4f5a4\n",
      "d4f6a4\n",
      "d4g6a4\n",
      "d4Nh6a4\n",
      "d4Nh6Nc3\n",
      "d4Nf6a4\n",
      "d4Nf6Nc3\n",
      "d4h5a4\n",
      "d4h5Nc3\n",
      "d4h6a4\n",
      "d4\n",
      "{'d4a5a4': {'d4a5a4Ra7': -6, 'd4a5a4Ra6': 0, 'd4a5a4b6': -5, 'd4a5a4Nc6': 0, 'd4a5a4Na6': -5, 'd4a5a4c6': -4, 'd4a5a4d5': 0, 'd4a5a4d6': -1, 'd4a5a4e6': 1, 'd4a5a4f5': -6, 'd4a5a4f6': -6, 'd4a5a4g6': -5, 'd4a5a4Nh6': -4, 'd4a5a4Nf6': 0, 'd4a5a4h5': -4, 'd4a5a4h6': -5}, 'd4a5Nc3': {'d4a5Nc3Ra7': -10, 'd4a5Nc3Ra6': -4, 'd4a5Nc3b6': -9, 'd4a5Nc3Nc6': -4, 'd4a5Nc3Na6': -9, 'd4a5Nc3c6': -8, 'd4a5Nc3d6': -5, 'd4a5Nc3e6': -3, 'd4a5Nc3f5': -10, 'd4a5Nc3f6': -10, 'd4a5Nc3g6': -9, 'd4a5Nc3Nh6': -8, 'd4a5Nc3Nf6': -4, 'd4a5Nc3h5': -8, 'd4a5Nc3h6': -9}, 'd4a5Qd3': {'d4a5Qd3a4': -15, 'd4a5Qd3Ra7': -16, 'd4a5Qd3Ra6': -10, 'd4a5Qd3b6': -15, 'd4a5Qd3Nc6': -10, 'd4a5Qd3Na6': -15, 'd4a5Qd3c6': -14, 'd4a5Qd3d5': -10, 'd4a5Qd3d6': -11, 'd4a5Qd3e6': -9, 'd4a5Qd3f6': -16, 'd4a5Qd3g6': -14, 'd4a5Qd3Nh6': -14, 'd4a5Qd3Nf6': -10, 'd4a5Qd3h5': -14, 'd4a5Qd3h6': -15}, 'd4a5': {'d4a5a4': 1, 'd4a5a3': 1, 'd4a5Nd2': 4, 'd4a5Nc3': -3, 'd4a5Na3': 0, 'd4a5b3': 1, 'd4a5Bd2': 0, 'd4a5Be3': 0, 'd4a5Bf4': -3, 'd4a5Bg5': -1, 'd4a5c4': 0, 'd4a5c3': 0, 'd4a5Qd2': -1, 'd4a5Qd3': -9, 'd4a5d5': -4, 'd4a5Kd2': -1, 'd4a5e4': -5, 'd4a5e3': -7, 'd4a5f4': -1, 'd4a5f3': -3, 'd4a5Nh3': -5, 'd4a5Nf3': -9, 'd4a5g4': -4, 'd4a5g3': -4, 'd4a5h4': -5, 'd4a5h3': -4}, 'd4a6a4': {'d4a6a4a5': -6, 'd4a6a4Ra7': -7, 'd4a6a4b6': -6, 'd4a6a4Nc6': -1, 'd4a6a4c6': -5, 'd4a6a4d5': -1, 'd4a6a4d6': -2, 'd4a6a4e6': 0, 'd4a6a4f5': -7, 'd4a6a4f6': -7, 'd4a6a4g6': -6, 'd4a6a4Nh6': -5, 'd4a6a4Nf6': -1, 'd4a6a4h5': -5, 'd4a6a4h6': -6}, 'd4a6Nc3': {'d4a6Nc3a5': -10, 'd4a6Nc3Ra7': -11, 'd4a6Nc3b6': -10, 'd4a6Nc3Nc6': -5, 'd4a6Nc3c6': -9, 'd4a6Nc3d6': -6, 'd4a6Nc3e6': -4, 'd4a6Nc3f5': -11, 'd4a6Nc3f6': -11, 'd4a6Nc3g6': -10, 'd4a6Nc3Nh6': -9, 'd4a6Nc3Nf6': -5, 'd4a6Nc3h5': -9, 'd4a6Nc3h6': -10}, 'd4a6Qd3': {'d4a6Qd3a5': -16, 'd4a6Qd3Ra7': -17, 'd4a6Qd3b6': -16, 'd4a6Qd3Nc6': -11, 'd4a6Qd3c6': -15, 'd4a6Qd3d5': -11, 'd4a6Qd3d6': -12, 'd4a6Qd3e6': -10, 'd4a6Qd3f6': -17, 'd4a6Qd3g6': -15, 'd4a6Qd3Nh6': -15, 'd4a6Qd3Nf6': -11, 'd4a6Qd3h5': -15, 'd4a6Qd3h6': -16}, 'd4b5a3': {'d4b5a3a5': -4, 'd4b5a3a6': -5, 'd4b5a3Nc6': 0, 'd4b5a3Na6': -4, 'd4b5a3c6': -4, 'd4b5a3Bb7': 0, 'd4b5a3Ba6': -5, 'd4b5a3d5': 0, 'd4b5a3d6': -1, 'd4b5a3e6': 1, 'd4b5a3f5': -6, 'd4b5a3f6': -6, 'd4b5a3g6': -5, 'd4b5a3Nh6': -4, 'd4b5a3Nf6': 0, 'd4b5a3h5': -4, 'd4b5a3h6': -5}, 'd4b5Nc3': {'d4b5Nc3a5': -9, 'd4b5Nc3a6': -10, 'd4b5Nc3b4': -11, 'd4b5Nc3Nc6': -5, 'd4b5Nc3Na6': -9, 'd4b5Nc3c6': -9, 'd4b5Nc3Bb7': -5, 'd4b5Nc3Ba6': -10, 'd4b5Nc3d6': -6, 'd4b5Nc3e6': -4, 'd4b5Nc3f5': -11, 'd4b5Nc3f6': -11, 'd4b5Nc3g6': -10, 'd4b5Nc3Nh6': -9, 'd4b5Nc3Nf6': -5, 'd4b5Nc3h5': -9, 'd4b5Nc3h6': -10}, 'd4b5Qd3': {'d4b5Qd3a5': -14, 'd4b5Qd3a6': -15, 'd4b5Qd3b4': -17, 'd4b5Qd3Nc6': -10, 'd4b5Qd3Na6': -14, 'd4b5Qd3c6': -14, 'd4b5Qd3Bb7': -10, 'd4b5Qd3Ba6': -15, 'd4b5Qd3d5': -10, 'd4b5Qd3d6': -11, 'd4b5Qd3e6': -9, 'd4b5Qd3f6': -16, 'd4b5Qd3g6': -14, 'd4b5Qd3Nh6': -14, 'd4b5Qd3Nf6': -10, 'd4b5Qd3h5': -14, 'd4b5Qd3h6': -15}, 'd4b6a4': {'d4b6a4a5': -5, 'd4b6a4a6': -6, 'd4b6a4Nc6': -1, 'd4b6a4Na6': -5, 'd4b6a4c6': -6, 'd4b6a4Bb7': -1, 'd4b6a4Ba6': -3, 'd4b6a4d5': -1, 'd4b6a4d6': -2, 'd4b6a4e6': 0, 'd4b6a4f5': -7, 'd4b6a4f6': -7, 'd4b6a4g6': -6, 'd4b6a4Nh6': -5, 'd4b6a4Nf6': -1, 'd4b6a4h5': -5, 'd4b6a4h6': -6}, 'd4b6Nc3': {'d4b6Nc3a5': -9, 'd4b6Nc3a6': -10, 'd4b6Nc3Nc6': -5, 'd4b6Nc3Na6': -9, 'd4b6Nc3c6': -10, 'd4b6Nc3Bb7': -5, 'd4b6Nc3Ba6': -7, 'd4b6Nc3d6': -6, 'd4b6Nc3e6': -4, 'd4b6Nc3f5': -11, 'd4b6Nc3f6': -11, 'd4b6Nc3g6': -10, 'd4b6Nc3Nh6': -9, 'd4b6Nc3Nf6': -5, 'd4b6Nc3h5': -9, 'd4b6Nc3h6': -10}, 'd4b6Qd3': {'d4b6Qd3a5': -15, 'd4b6Qd3a6': -16, 'd4b6Qd3Nc6': -11, 'd4b6Qd3Na6': -15, 'd4b6Qd3c6': -16, 'd4b6Qd3Bb7': -11, 'd4b6Qd3Ba6': -14, 'd4b6Qd3d5': -11, 'd4b6Qd3d6': -12, 'd4b6Qd3e6': -10, 'd4b6Qd3f6': -17, 'd4b6Qd3g6': -15, 'd4b6Qd3Nh6': -15, 'd4b6Qd3Nf6': -11, 'd4b6Qd3h5': -15, 'd4b6Qd3h6': -16}, 'd4Nc6a4': {'d4Nc6a4a5': 0, 'd4Nc6a4a6': -1, 'd4Nc6a4Rb8': -2, 'd4Nc6a4b6': -1, 'd4Nc6a4Nb8': -8, 'd4Nc6a4Na5': -6, 'd4Nc6a4Nb4': -4, 'd4Nc6a4d5': 4, 'd4Nc6a4d6': 3, 'd4Nc6a4e6': 5, 'd4Nc6a4f5': -2, 'd4Nc6a4f6': -2, 'd4Nc6a4g6': -1, 'd4Nc6a4Nh6': 0, 'd4Nc6a4Nf6': 4, 'd4Nc6a4h5': 0, 'd4Nc6a4h6': -1}, 'd4Nc6Nc3': {'d4Nc6Nc3a5': -4, 'd4Nc6Nc3a6': -5, 'd4Nc6Nc3Rb8': -6, 'd4Nc6Nc3b6': -5, 'd4Nc6Nc3Nb8': -12, 'd4Nc6Nc3Na5': -10, 'd4Nc6Nc3Nb4': -8, 'd4Nc6Nc3d6': -1, 'd4Nc6Nc3e6': 1, 'd4Nc6Nc3f5': -6, 'd4Nc6Nc3f6': -6, 'd4Nc6Nc3g6': -5, 'd4Nc6Nc3Nh6': -4, 'd4Nc6Nc3Nf6': 0, 'd4Nc6Nc3h5': -4, 'd4Nc6Nc3h6': -5}, 'd4Nc6Qd3': {'d4Nc6Qd3a5': -10, 'd4Nc6Qd3Rb8': -12, 'd4Nc6Qd3b6': -11, 'd4Nc6Qd3Nb8': -18, 'd4Nc6Qd3Na5': -16, 'd4Nc6Qd3Nb4': -14, 'd4Nc6Qd3d5': -6, 'd4Nc6Qd3d6': -7, 'd4Nc6Qd3e6': -5, 'd4Nc6Qd3f6': -12, 'd4Nc6Qd3g6': -10, 'd4Nc6Qd3Nh6': -10, 'd4Nc6Qd3Nf6': -6, 'd4Nc6Qd3h5': -10, 'd4Nc6Qd3h6': -11}, 'd4Nc6': {'d4Nc6a4': 5, 'd4Nc6a3': 5, 'd4Nc6Nd2': 5, 'd4Nc6Nc3': 1, 'd4Nc6Na3': 4, 'd4Nc6b3': 1, 'd4Nc6Bd2': 1, 'd4Nc6Be3': 4, 'd4Nc6Bf4': 1, 'd4Nc6Bg5': 3, 'd4Nc6c4': 3, 'd4Nc6c3': 4, 'd4Nc6Qd2': 3, 'd4Nc6Qd3': -5, 'd4Nc6d5': 1, 'd4Nc6Kd2': 4, 'd4Nc6e4': -5, 'd4Nc6e3': -2, 'd4Nc6f4': 4, 'd4Nc6f3': 2, 'd4Nc6Nh3': 0, 'd4Nc6Nf3': -4, 'd4Nc6g4': 1, 'd4Nc6g3': 1, 'd4Nc6h4': 0, 'd4Nc6h3': 1}, 'd4Na6a4': {'d4Na6a4Nb4': -4, 'd4Na6a4Nb8': -8, 'd4Na6a4Rb8': -6, 'd4Na6a4b6': -5, 'd4Na6a4c6': -4, 'd4Na6a4d5': 0, 'd4Na6a4d6': -1, 'd4Na6a4e6': 1, 'd4Na6a4f5': -6, 'd4Na6a4f6': -6, 'd4Na6a4g6': -5, 'd4Na6a4Nh6': -4, 'd4Na6a4Nf6': 0, 'd4Na6a4h5': -4, 'd4Na6a4h6': -5}, 'd4Na6Nc3': {'d4Na6Nc3Nb4': -8, 'd4Na6Nc3Nb8': -12, 'd4Na6Nc3Rb8': -10, 'd4Na6Nc3b6': -9, 'd4Na6Nc3c6': -8, 'd4Na6Nc3d6': -5, 'd4Na6Nc3e6': -3, 'd4Na6Nc3f5': -10, 'd4Na6Nc3f6': -10, 'd4Na6Nc3g6': -9, 'd4Na6Nc3Nh6': -8, 'd4Na6Nc3Nf6': -4, 'd4Na6Nc3h5': -8, 'd4Na6Nc3h6': -9}, 'd4Na6Qd3': {'d4Na6Qd3Nb4': -14, 'd4Na6Qd3Nb8': -18, 'd4Na6Qd3Rb8': -16, 'd4Na6Qd3b6': -15, 'd4Na6Qd3c6': -14, 'd4Na6Qd3d5': -10, 'd4Na6Qd3d6': -11, 'd4Na6Qd3e6': -9, 'd4Na6Qd3f6': -16, 'd4Na6Qd3g6': -14, 'd4Na6Qd3Nh6': -14, 'd4Na6Qd3Nf6': -10, 'd4Na6Qd3h5': -14, 'd4Na6Qd3h6': -15}, 'd4c6a4': {'d4c6a4a5': -4, 'd4c6a4a6': -5, 'd4c6a4b6': -6, 'd4c6a4Na6': -4, 'd4c6a4d5': 0, 'd4c6a4d6': -1, 'd4c6a4Qc7': 0, 'd4c6a4Qb6': 0, 'd4c6a4Qa5': 4, 'd4c6a4e6': 1, 'd4c6a4f5': -6, 'd4c6a4f6': -6, 'd4c6a4g6': -5, 'd4c6a4Nh6': -4, 'd4c6a4Nf6': 0, 'd4c6a4h5': -4, 'd4c6a4h6': -5}, 'd4c6Nc3': {'d4c6Nc3a5': -8, 'd4c6Nc3a6': -9, 'd4c6Nc3b6': -10, 'd4c6Nc3Na6': -8, 'd4c6Nc3d6': -5, 'd4c6Nc3Qc7': -4, 'd4c6Nc3Qb6': -4, 'd4c6Nc3Qa5': 0, 'd4c6Nc3e6': -3, 'd4c6Nc3f5': -10, 'd4c6Nc3f6': -10, 'd4c6Nc3g6': -9, 'd4c6Nc3Nh6': -8, 'd4c6Nc3Nf6': -4, 'd4c6Nc3h5': -8, 'd4c6Nc3h6': -9}, 'd4c6Qd3': {'d4c6Qd3a5': -14, 'd4c6Qd3a6': -15, 'd4c6Qd3b6': -16, 'd4c6Qd3Na6': -14, 'd4c6Qd3d5': -10, 'd4c6Qd3d6': -11, 'd4c6Qd3Qc7': -10, 'd4c6Qd3Qb6': -10, 'd4c6Qd3Qa5': -4, 'd4c6Qd3e6': -9, 'd4c6Qd3f6': -16, 'd4c6Qd3g6': -14, 'd4c6Qd3Nh6': -14, 'd4c6Qd3Nf6': -10, 'd4c6Qd3h5': -14, 'd4c6Qd3h6': -15}, 'd4c6': {'d4c6a4': 4, 'd4c6a3': 6, 'd4c6Nd2': 4, 'd4c6Nc3': 0, 'd4c6Na3': 0, 'd4c6b4': 1, 'd4c6b3': 1, 'd4c6Bd2': 0, 'd4c6Be3': 0, 'd4c6Bf4': 2, 'd4c6Bg5': 4, 'd4c6c4': 0, 'd4c6c3': 0, 'd4c6Qd2': 0, 'd4c6Qd3': -4, 'd4c6Kd2': 0, 'd4c6e4': 1, 'd4c6e3': -2, 'd4c6f4': 0, 'd4c6f3': -2, 'd4c6Nh3': -4, 'd4c6Nf3': -4, 'd4c6g4': -3, 'd4c6g3': -3, 'd4c6h4': -4, 'd4c6h3': -3}, 'd4d5a4': {'d4d5a4a5': 0, 'd4d5a4a6': -1, 'd4d5a4b6': -1, 'd4d5a4Nc6': 4, 'd4d5a4Nd7': -4, 'd4d5a4Na6': 0, 'd4d5a4c6': 0, 'd4d5a4Bd7': 0, 'd4d5a4Be6': 0, 'd4d5a4Bf5': 3, 'd4d5a4Bg4': 1, 'd4d5a4Qd7': 1, 'd4d5a4Qd6': 10, 'd4d5a4e6': 2, 'd4d5a4Kd7': -4, 'd4d5a4f5': -4, 'd4d5a4f6': -2, 'd4d5a4g6': -1, 'd4d5a4Nh6': 0, 'd4d5a4Nf6': 4, 'd4d5a4h5': 0, 'd4d5a4h6': -1}, 'd4d5Nc3': {'d4d5Nc3a5': -4, 'd4d5Nc3a6': -5, 'd4d5Nc3b6': -5, 'd4d5Nc3Nc6': 0, 'd4d5Nc3Nd7': -8, 'd4d5Nc3Na6': -4, 'd4d5Nc3c6': -4, 'd4d5Nc3Bd7': -4, 'd4d5Nc3Be6': -4, 'd4d5Nc3Bf5': -1, 'd4d5Nc3Bg4': -3, 'd4d5Nc3Qd7': -3, 'd4d5Nc3Qd6': 6, 'd4d5Nc3e6': -2, 'd4d5Nc3Kd7': -8, 'd4d5Nc3f5': -8, 'd4d5Nc3f6': -6, 'd4d5Nc3g6': -5, 'd4d5Nc3Nh6': -4, 'd4d5Nc3Nf6': 0, 'd4d5Nc3h5': -4, 'd4d5Nc3h6': -5}, 'd4d5Qd3': {'d4d5Qd3a5': -10, 'd4d5Qd3a6': -11, 'd4d5Qd3b6': -11, 'd4d5Qd3Nc6': -6, 'd4d5Qd3Nd7': -14, 'd4d5Qd3Na6': -10, 'd4d5Qd3c6': -10, 'd4d5Qd3Bd7': -10, 'd4d5Qd3Be6': -10, 'd4d5Qd3Bg4': -9, 'd4d5Qd3Qd7': -9, 'd4d5Qd3Qd6': 0, 'd4d5Qd3e6': -8, 'd4d5Qd3Kd7': -14, 'd4d5Qd3f6': -12, 'd4d5Qd3g6': -10, 'd4d5Qd3Nh6': -10, 'd4d5Qd3Nf6': -6, 'd4d5Qd3h5': -10, 'd4d5Qd3h6': -11}, 'd4d5': {'d4d5a4': 10, 'd4d5a3': 11, 'd4d5Nd2': 14, 'd4d5Nc3': 6, 'd4d5Na3': 10, 'd4d5b4': 10, 'd4d5b3': 11, 'd4d5Bd2': 10, 'd4d5Be3': 10, 'd4d5Bf4': 6, 'd4d5Bg5': 9, 'd4d5c3': 10, 'd4d5Qd2': 9, 'd4d5Qd3': 0, 'd4d5Kd2': 4, 'd4d5e3': 2, 'd4d5f4': 4, 'd4d5f3': 2, 'd4d5Nh3': 0, 'd4d5Nf3': 0, 'd4d5g3': 1, 'd4d5h4': 0, 'd4d5h3': 1}, 'd4d6a4': {'d4d6a4a5': -1, 'd4d6a4a6': -2, 'd4d6a4b6': -2, 'd4d6a4Nc6': 3, 'd4d6a4Nd7': -4, 'd4d6a4Na6': -1, 'd4d6a4c6': -1, 'd4d6a4Bd7': 0, 'd4d6a4Be6': 2, 'd4d6a4Bf5': 2, 'd4d6a4Bg4': 0, 'd4d6a4d5': -2, 'd4d6a4Qd7': 0, 'd4d6a4e6': -2, 'd4d6a4Kd7': -4, 'd4d6a4f5': -5, 'd4d6a4f6': -3, 'd4d6a4g6': -2, 'd4d6a4Nh6': -1, 'd4d6a4Nf6': 3, 'd4d6a4h5': -1, 'd4d6a4h6': -2}, 'd4d6Nc3': {'d4d6Nc3a5': -5, 'd4d6Nc3a6': -6, 'd4d6Nc3b6': -6, 'd4d6Nc3Nc6': -1, 'd4d6Nc3Nd7': -8, 'd4d6Nc3Na6': -5, 'd4d6Nc3c6': -5, 'd4d6Nc3Bd7': -4, 'd4d6Nc3Be6': -2, 'd4d6Nc3Bf5': -2, 'd4d6Nc3Bg4': -4, 'd4d6Nc3Qd7': -4, 'd4d6Nc3e6': -6, 'd4d6Nc3Kd7': -8, 'd4d6Nc3f5': -9, 'd4d6Nc3f6': -7, 'd4d6Nc3g6': -6, 'd4d6Nc3Nh6': -5, 'd4d6Nc3Nf6': -1, 'd4d6Nc3h5': -5, 'd4d6Nc3h6': -6}, 'd4e6a4': {'d4e6a4a5': 1, 'd4e6a4a6': 0, 'd4e6a4b6': 0, 'd4e6a4Nc6': 5, 'd4e6a4Na6': 1, 'd4e6a4c6': 1, 'd4e6a4d5': 2, 'd4e6a4d6': -2, 'd4e6a4Qe7': 0, 'd4e6a4Qf6': 6, 'd4e6a4Qh4': 6, 'd4e6a4Ke7': -4, 'd4e6a4f5': -1, 'd4e6a4f6': -3, 'd4e6a4Be7': -1, 'd4e6a4Bd6': 3, 'd4e6a4Bb4': 2, 'd4e6a4g6': 0, 'd4e6a4Nh6': 1, 'd4e6a4Ne7': -4, 'd4e6a4Nf6': 3, 'd4e6a4h5': 1, 'd4e6a4h6': 0}, 'd4e6Nc3': {'d4e6Nc3a5': -3, 'd4e6Nc3a6': -4, 'd4e6Nc3b6': -4, 'd4e6Nc3Nc6': 1, 'd4e6Nc3Na6': -3, 'd4e6Nc3c6': -3, 'd4e6Nc3d6': -6, 'd4e6Nc3Qe7': -4, 'd4e6Nc3Qf6': 2, 'd4e6Nc3Qh4': 2, 'd4e6Nc3Ke7': -8, 'd4e6Nc3f5': -5, 'd4e6Nc3f6': -7, 'd4e6Nc3Be7': -5, 'd4e6Nc3Bd6': -1, 'd4e6Nc3Bb4': -4, 'd4e6Nc3g6': -4, 'd4e6Nc3Nh6': -3, 'd4e6Nc3Ne7': -8, 'd4e6Nc3Nf6': -1, 'd4e6Nc3h5': -3, 'd4e6Nc3h6': -4}, 'd4e6Qd3': {'d4e6Qd3a5': -9, 'd4e6Qd3a6': -10, 'd4e6Qd3b6': -10, 'd4e6Qd3Nc6': -5, 'd4e6Qd3Na6': -9, 'd4e6Qd3c6': -9, 'd4e6Qd3d5': -8, 'd4e6Qd3d6': -12, 'd4e6Qd3Qe7': -10, 'd4e6Qd3Qf6': -4, 'd4e6Qd3Qh4': -4, 'd4e6Qd3Ke7': -14, 'd4e6Qd3f6': -13, 'd4e6Qd3Be7': -11, 'd4e6Qd3Bd6': -7, 'd4e6Qd3Bb4': -8, 'd4e6Qd3g6': -9, 'd4e6Qd3Nh6': -9, 'd4e6Qd3Ne7': -14, 'd4e6Qd3Nf6': -7, 'd4e6Qd3h5': -9, 'd4e6Qd3h6': -10}, 'd4f5a4': {'d4f5a4a5': -6, 'd4f5a4a6': -7, 'd4f5a4b6': -7, 'd4f5a4Nc6': -2, 'd4f5a4Na6': -6, 'd4f5a4c6': -6, 'd4f5a4d5': -4, 'd4f5a4d6': -5, 'd4f5a4e6': -1, 'd4f5a4Kf7': -4, 'd4f5a4g6': -7, 'd4f5a4Nh6': -6, 'd4f5a4Nf6': -2, 'd4f5a4h5': -6, 'd4f5a4h6': -7}, 'd4f6a4': {'d4f6a4a5': -6, 'd4f6a4a6': -7, 'd4f6a4b6': -7, 'd4f6a4Nc6': -2, 'd4f6a4Na6': -6, 'd4f6a4c6': -6, 'd4f6a4d5': -2, 'd4f6a4d6': -3, 'd4f6a4e6': -3, 'd4f6a4Kf7': -4, 'd4f6a4f5': -8, 'd4f6a4g6': -7, 'd4f6a4Nh6': -6, 'd4f6a4h5': -6, 'd4f6a4h6': -7}, 'd4g6a4': {'d4g6a4a5': -5, 'd4g6a4a6': -6, 'd4g6a4b6': -6, 'd4g6a4Nc6': -1, 'd4g6a4Na6': -5, 'd4g6a4c6': -5, 'd4g6a4d5': -1, 'd4g6a4d6': -2, 'd4g6a4e6': 0, 'd4g6a4f5': -7, 'd4g6a4f6': -7, 'd4g6a4Bg7': -4, 'd4g6a4Bh6': -3, 'd4g6a4Nh6': -5, 'd4g6a4Nf6': -1, 'd4g6a4h5': -5, 'd4g6a4h6': -6}, 'd4Nh6a4': {'d4Nh6a4a5': -4, 'd4Nh6a4a6': -5, 'd4Nh6a4b6': -5, 'd4Nh6a4Nc6': 0, 'd4Nh6a4Na6': -4, 'd4Nh6a4c6': -4, 'd4Nh6a4d5': 0, 'd4Nh6a4d6': -1, 'd4Nh6a4e6': 1, 'd4Nh6a4f5': -6, 'd4Nh6a4f6': -6, 'd4Nh6a4g6': -5, 'd4Nh6a4Ng8': -8, 'd4Nh6a4Nf5': -2, 'd4Nh6a4Ng4': -4, 'd4Nh6a4Rg8': -6}, 'd4Nh6Nc3': {'d4Nh6Nc3a5': -8, 'd4Nh6Nc3a6': -9, 'd4Nh6Nc3b6': -9, 'd4Nh6Nc3Nc6': -4, 'd4Nh6Nc3Na6': -8, 'd4Nh6Nc3c6': -8, 'd4Nh6Nc3d6': -5, 'd4Nh6Nc3e6': -3, 'd4Nh6Nc3f5': -10, 'd4Nh6Nc3f6': -10, 'd4Nh6Nc3g6': -9, 'd4Nh6Nc3Ng8': -12, 'd4Nh6Nc3Nf5': -6, 'd4Nh6Nc3Ng4': -8, 'd4Nh6Nc3Rg8': -10}, 'd4Nf6a4': {'d4Nf6a4a5': 0, 'd4Nf6a4a6': -1, 'd4Nf6a4b6': -1, 'd4Nf6a4Nc6': 4, 'd4Nf6a4Na6': 0, 'd4Nf6a4c6': 0, 'd4Nf6a4d5': 4, 'd4Nf6a4d6': 3, 'd4Nf6a4e6': 3, 'd4Nf6a4Ng4': -4, 'd4Nf6a4Nh5': -6, 'd4Nf6a4Ng8': -8, 'd4Nf6a4Nd5': -2, 'd4Nf6a4Ne4': -2, 'd4Nf6a4g6': -1, 'd4Nf6a4h5': 0, 'd4Nf6a4Rg8': -2}, 'd4Nf6Nc3': {'d4Nf6Nc3a5': -4, 'd4Nf6Nc3a6': -5, 'd4Nf6Nc3b6': -5, 'd4Nf6Nc3Nc6': 0, 'd4Nf6Nc3Na6': -4, 'd4Nf6Nc3c6': -4, 'd4Nf6Nc3d6': -1, 'd4Nf6Nc3e6': -1, 'd4Nf6Nc3Ng4': -8, 'd4Nf6Nc3Nh5': -10, 'd4Nf6Nc3Ng8': -12, 'd4Nf6Nc3g6': -5, 'd4Nf6Nc3h5': -4, 'd4Nf6Nc3Rg8': -6}, 'd4h5a4': {'d4h5a4a5': -4, 'd4h5a4a6': -5, 'd4h5a4b6': -5, 'd4h5a4Nc6': 0, 'd4h5a4Na6': -4, 'd4h5a4c6': -4, 'd4h5a4d5': 0, 'd4h5a4d6': -1, 'd4h5a4e6': 1, 'd4h5a4f5': -6, 'd4h5a4f6': -6, 'd4h5a4g6': -5, 'd4h5a4Nh6': -5, 'd4h5a4Nf6': 0, 'd4h5a4h4': -5, 'd4h5a4Rh7': -6, 'd4h5a4Rh6': 0}, 'd4h5Nc3': {'d4h5Nc3a5': -8, 'd4h5Nc3a6': -9, 'd4h5Nc3b6': -9, 'd4h5Nc3Nc6': -4, 'd4h5Nc3Na6': -8, 'd4h5Nc3c6': -8, 'd4h5Nc3d6': -5, 'd4h5Nc3e6': -3, 'd4h5Nc3f5': -10, 'd4h5Nc3f6': -10, 'd4h5Nc3g6': -9, 'd4h5Nc3Nh6': -9, 'd4h5Nc3Nf6': -4, 'd4h5Nc3h4': -9, 'd4h5Nc3Rh7': -10, 'd4h5Nc3Rh6': -4}, 'd4h6a4': {'d4h6a4a5': -5, 'd4h6a4a6': -6, 'd4h6a4b6': -6, 'd4h6a4Nc6': -1, 'd4h6a4Na6': -5, 'd4h6a4c6': -5, 'd4h6a4d5': -1, 'd4h6a4d6': -2, 'd4h6a4e6': 0, 'd4h6a4f5': -7, 'd4h6a4f6': -7, 'd4h6a4g6': -6, 'd4h6a4Nf6': -1, 'd4h6a4h5': -6, 'd4h6a4Rh7': -7}, 'd4': {'d4a5': -9, 'd4a6': -10, 'd4b5': -9, 'd4b6': -10, 'd4Nc6': -5, 'd4Na6': -9, 'd4c6': -4, 'd4d5': 0, 'd4d6': -1, 'd4e6': -4, 'd4f5': -1, 'd4f6': -2, 'd4g6': 0, 'd4Nh6': -3, 'd4Nf6': 0, 'd4h5': -3, 'd4h6': 0}}\n",
      "black's move:  d5\n",
      "8 [bR][bN][bB][bQ][bK][bB][bN][bR] \n",
      "7 [bP][bP][bP][  ][bP][bP][bP][bP] \n",
      "6 [  ][  ][  ][  ][  ][  ][  ][  ] \n",
      "5 [  ][  ][  ][bP][  ][  ][  ][  ] \n",
      "4 [  ][  ][  ][wP][  ][  ][  ][  ] \n",
      "3 [  ][  ][  ][  ][  ][  ][  ][  ] \n",
      "2 [wP][wP][wP][  ][wP][wP][wP][wP] \n",
      "1 [wR][wN][wB][wQ][wK][wB][wN][wR]\n",
      "   a   b   c   d   e   f   g   h \n"
     ]
    },
    {
     "ename": "TypeError",
     "evalue": "object of type 'int' has no len()",
     "output_type": "error",
     "traceback": [
      "\u001b[1;31m---------------------------------------------------------------------------\u001b[0m",
      "\u001b[1;31mTypeError\u001b[0m                                 Traceback (most recent call last)",
      "\u001b[1;32m<ipython-input-2-854b4bcae578>\u001b[0m in \u001b[0;36m<module>\u001b[1;34m\u001b[0m\n\u001b[0;32m      2\u001b[0m \u001b[0mwhite\u001b[0m \u001b[1;33m=\u001b[0m \u001b[0mai\u001b[0m\u001b[1;33m(\u001b[0m\u001b[0mgame\u001b[0m\u001b[1;33m,\u001b[0m \u001b[1;36m1.0\u001b[0m\u001b[1;33m,\u001b[0m \u001b[1;34m'w'\u001b[0m\u001b[1;33m)\u001b[0m\u001b[1;33m\u001b[0m\u001b[1;33m\u001b[0m\u001b[0m\n\u001b[0;32m      3\u001b[0m \u001b[0mblack\u001b[0m \u001b[1;33m=\u001b[0m \u001b[0mai\u001b[0m\u001b[1;33m(\u001b[0m\u001b[0mgame\u001b[0m\u001b[1;33m,\u001b[0m \u001b[1;36m1.0\u001b[0m\u001b[1;33m,\u001b[0m \u001b[1;34m'b'\u001b[0m\u001b[1;33m)\u001b[0m\u001b[1;33m\u001b[0m\u001b[1;33m\u001b[0m\u001b[0m\n\u001b[1;32m----> 4\u001b[1;33m \u001b[0mgame\u001b[0m\u001b[1;33m.\u001b[0m\u001b[0mPlay\u001b[0m\u001b[1;33m(\u001b[0m\u001b[0mwhite\u001b[0m\u001b[1;33m,\u001b[0m \u001b[0mblack\u001b[0m\u001b[1;33m)\u001b[0m\u001b[1;33m\u001b[0m\u001b[1;33m\u001b[0m\u001b[0m\n\u001b[0m",
      "\u001b[1;32mC:\\Eli\\Chess AI\\game.py\u001b[0m in \u001b[0;36mPlay\u001b[1;34m(self, white, black)\u001b[0m\n\u001b[0;32m   1937\u001b[0m                 \u001b[0mmove_found\u001b[0m \u001b[1;33m=\u001b[0m \u001b[1;32mFalse\u001b[0m\u001b[1;33m\u001b[0m\u001b[1;33m\u001b[0m\u001b[0m\n\u001b[0;32m   1938\u001b[0m                 \u001b[1;32mif\u001b[0m \u001b[0mself\u001b[0m\u001b[1;33m.\u001b[0m\u001b[0mturn\u001b[0m \u001b[1;33m==\u001b[0m \u001b[1;34m'w'\u001b[0m\u001b[1;33m:\u001b[0m\u001b[1;33m\u001b[0m\u001b[1;33m\u001b[0m\u001b[0m\n\u001b[1;32m-> 1939\u001b[1;33m                     \u001b[0mmove\u001b[0m \u001b[1;33m=\u001b[0m \u001b[0mwhite\u001b[0m\u001b[1;33m.\u001b[0m\u001b[0mAB_Select_Move\u001b[0m\u001b[1;33m(\u001b[0m\u001b[0mself\u001b[0m\u001b[1;33m)\u001b[0m\u001b[1;33m\u001b[0m\u001b[1;33m\u001b[0m\u001b[0m\n\u001b[0m\u001b[0;32m   1940\u001b[0m                     \u001b[0mprint\u001b[0m\u001b[1;33m(\u001b[0m\u001b[1;34m'white\\'s move: '\u001b[0m\u001b[1;33m,\u001b[0m \u001b[0mmove\u001b[0m\u001b[1;33m)\u001b[0m\u001b[1;33m\u001b[0m\u001b[1;33m\u001b[0m\u001b[0m\n\u001b[0;32m   1941\u001b[0m                 \u001b[1;32melif\u001b[0m \u001b[0mself\u001b[0m\u001b[1;33m.\u001b[0m\u001b[0mturn\u001b[0m \u001b[1;33m==\u001b[0m \u001b[1;34m'b'\u001b[0m\u001b[1;33m:\u001b[0m\u001b[1;33m\u001b[0m\u001b[1;33m\u001b[0m\u001b[0m\n",
      "\u001b[1;32mC:\\Eli\\Chess AI\\ai.py\u001b[0m in \u001b[0;36mAB_Select_Move\u001b[1;34m(self, game)\u001b[0m\n\u001b[0;32m     97\u001b[0m                                 \u001b[1;32mexcept\u001b[0m\u001b[1;33m:\u001b[0m\u001b[1;33m\u001b[0m\u001b[1;33m\u001b[0m\u001b[0m\n\u001b[0;32m     98\u001b[0m                                         \u001b[1;32mcontinue\u001b[0m\u001b[1;33m\u001b[0m\u001b[1;33m\u001b[0m\u001b[0m\n\u001b[1;32m---> 99\u001b[1;33m                         \u001b[1;32melif\u001b[0m \u001b[0misinstance\u001b[0m\u001b[1;33m(\u001b[0m\u001b[0mvalue\u001b[0m\u001b[1;33m,\u001b[0m \u001b[0mstr\u001b[0m\u001b[1;33m)\u001b[0m \u001b[1;32mand\u001b[0m \u001b[0mvalue\u001b[0m \u001b[1;32mnot\u001b[0m \u001b[1;32min\u001b[0m \u001b[0malgebraic_state\u001b[0m \u001b[1;32mor\u001b[0m \u001b[0mlen\u001b[0m\u001b[1;33m(\u001b[0m\u001b[0mvalue\u001b[0m\u001b[1;33m)\u001b[0m \u001b[1;33m<\u001b[0m \u001b[0mlen\u001b[0m\u001b[1;33m(\u001b[0m\u001b[0malgebraic_state\u001b[0m\u001b[1;33m)\u001b[0m\u001b[1;33m:\u001b[0m\u001b[1;33m\u001b[0m\u001b[1;33m\u001b[0m\u001b[0m\n\u001b[0m\u001b[0;32m    100\u001b[0m                                 \u001b[1;32mtry\u001b[0m\u001b[1;33m:\u001b[0m\u001b[1;33m\u001b[0m\u001b[1;33m\u001b[0m\u001b[0m\n\u001b[0;32m    101\u001b[0m                                         \u001b[1;32mdel\u001b[0m \u001b[0mself\u001b[0m\u001b[1;33m.\u001b[0m\u001b[0mmemory\u001b[0m\u001b[1;33m[\u001b[0m\u001b[0mvalue\u001b[0m\u001b[1;33m]\u001b[0m\u001b[1;33m\u001b[0m\u001b[1;33m\u001b[0m\u001b[0m\n",
      "\u001b[1;31mTypeError\u001b[0m: object of type 'int' has no len()"
     ]
    }
   ],
   "source": [
    "game = game(possible_moves, state)\n",
    "white = ai(game, 0, 'w')\n",
    "black = ai(game, 0, 'b')\n",
    "game.Play(white, black)\n"
   ]
  },
  {
   "cell_type": "code",
   "execution_count": null,
   "metadata": {},
   "outputs": [],
   "source": [
    "pickle.dump(white.consciousness, open('white_states_1.p','wb'))\n",
    "pickle.dump(black.consciousness, open('black_states_1.p', 'wb'))"
   ]
  },
  {
   "cell_type": "code",
   "execution_count": null,
   "metadata": {},
   "outputs": [],
   "source": []
  },
  {
   "cell_type": "code",
   "execution_count": null,
   "metadata": {},
   "outputs": [],
   "source": []
  },
  {
   "cell_type": "code",
   "execution_count": null,
   "metadata": {},
   "outputs": [],
   "source": []
  },
  {
   "cell_type": "code",
   "execution_count": null,
   "metadata": {},
   "outputs": [],
   "source": []
  },
  {
   "cell_type": "markdown",
   "metadata": {
    "scrolled": true
   },
   "source": [
    "#### "
   ]
  },
  {
   "cell_type": "markdown",
   "metadata": {},
   "source": [
    "##### "
   ]
  }
 ],
 "metadata": {
  "kernelspec": {
   "display_name": "Python 3",
   "language": "python",
   "name": "python3"
  },
  "language_info": {
   "codemirror_mode": {
    "name": "ipython",
    "version": 3
   },
   "file_extension": ".py",
   "mimetype": "text/x-python",
   "name": "python",
   "nbconvert_exporter": "python",
   "pygments_lexer": "ipython3",
   "version": "3.7.3"
  }
 },
 "nbformat": 4,
 "nbformat_minor": 2
}
